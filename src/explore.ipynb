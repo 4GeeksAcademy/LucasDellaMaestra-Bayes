{
    "cells": [
        {
            "cell_type": "markdown",
            "metadata": {},
            "source": [
                "# Explore here"
            ]
        },
        {
            "cell_type": "code",
            "execution_count": 1,
            "metadata": {},
            "outputs": [
                {
                    "name": "stdout",
                    "output_type": "stream",
                    "text": [
                        "          package_name                                             review  \\\n",
                        "0  com.facebook.katana   privacy at least put some option appear offli...   \n",
                        "1  com.facebook.katana   messenger issues ever since the last update, ...   \n",
                        "2  com.facebook.katana   profile any time my wife or anybody has more ...   \n",
                        "3  com.facebook.katana   the new features suck for those of us who don...   \n",
                        "4  com.facebook.katana   forced reload on uploading pic on replying co...   \n",
                        "\n",
                        "   polarity  \n",
                        "0         0  \n",
                        "1         0  \n",
                        "2         0  \n",
                        "3         0  \n",
                        "4         0  \n"
                    ]
                }
            ],
            "source": [
                "import pandas as pd\n",
                "\n",
                "# URL del dataset\n",
                "url = \"https://raw.githubusercontent.com/4GeeksAcademy/naive-bayes-project-tutorial/main/playstore_reviews.csv\"\n",
                "\n",
                "# Cargar el dataset\n",
                "df = pd.read_csv(url)\n",
                "\n",
                "# Mostrar las primeras filas\n",
                "print(df.head())"
            ]
        },
        {
            "cell_type": "code",
            "execution_count": 2,
            "metadata": {},
            "outputs": [
                {
                    "name": "stdout",
                    "output_type": "stream",
                    "text": [
                        "                                              review  polarity\n",
                        "0   privacy at least put some option appear offli...         0\n",
                        "1   messenger issues ever since the last update, ...         0\n",
                        "2   profile any time my wife or anybody has more ...         0\n",
                        "3   the new features suck for those of us who don...         0\n",
                        "4   forced reload on uploading pic on replying co...         0\n"
                    ]
                }
            ],
            "source": [
                "# Eliminar la columna 'package_name'\n",
                "df.drop(columns=[\"package_name\"], inplace=True)\n",
                "\n",
                "# Verificamos que se haya eliminado\n",
                "print(df.head())"
            ]
        },
        {
            "cell_type": "code",
            "execution_count": 3,
            "metadata": {},
            "outputs": [
                {
                    "name": "stdout",
                    "output_type": "stream",
                    "text": [
                        "                                              review  polarity\n",
                        "0  privacy at least put some option appear offlin...         0\n",
                        "1  messenger issues ever since the last update, i...         0\n",
                        "2  profile any time my wife or anybody has more t...         0\n",
                        "3  the new features suck for those of us who don'...         0\n",
                        "4  forced reload on uploading pic on replying com...         0\n"
                    ]
                }
            ],
            "source": [
                "# Convertir a minúsculas y eliminar espacios extra en la columna 'review'\n",
                "df[\"review\"] = df[\"review\"].str.lower().str.strip()\n",
                "\n",
                "# Ver las primeras filas para comprobar\n",
                "print(df.head())"
            ]
        },
        {
            "cell_type": "code",
            "execution_count": 4,
            "metadata": {},
            "outputs": [
                {
                    "name": "stdout",
                    "output_type": "stream",
                    "text": [
                        "0    privacy at least put some option appear offlin...\n",
                        "1    messenger issues ever since the last update, i...\n",
                        "2    profile any time my wife or anybody has more t...\n",
                        "3    the new features suck for those of us who don'...\n",
                        "4    forced reload on uploading pic on replying com...\n",
                        "Name: review, dtype: object\n",
                        "0    0\n",
                        "1    0\n",
                        "2    0\n",
                        "3    0\n",
                        "4    0\n",
                        "Name: polarity, dtype: int64\n"
                    ]
                }
            ],
            "source": [
                "# X es el texto de las reseñas (variable predictora)\n",
                "X = df[\"review\"]\n",
                "\n",
                "# y es la columna de clasificación (variable objetivo)\n",
                "y = df[\"polarity\"]\n",
                "\n",
                "# Verificamos cómo quedó\n",
                "print(X.head())\n",
                "print(y.head())"
            ]
        },
        {
            "cell_type": "code",
            "execution_count": 5,
            "metadata": {},
            "outputs": [
                {
                    "name": "stdout",
                    "output_type": "stream",
                    "text": [
                        "Train: 712, Test: 179\n"
                    ]
                }
            ],
            "source": [
                "from sklearn.model_selection import train_test_split\n",
                "\n",
                "# Dividimos los datos (80% entrenamiento, 20% test)\n",
                "X_train, X_test, y_train, y_test = train_test_split(X, y, test_size=0.2, random_state=42)\n",
                "\n",
                "# Verificamos la cantidad de datos en cada conjunto\n",
                "print(f\"Train: {len(X_train)}, Test: {len(X_test)}\")"
            ]
        },
        {
            "cell_type": "code",
            "execution_count": 6,
            "metadata": {},
            "outputs": [
                {
                    "name": "stdout",
                    "output_type": "stream",
                    "text": [
                        "(712, 3553) (179, 3553)\n"
                    ]
                }
            ],
            "source": [
                "from sklearn.feature_extraction.text import CountVectorizer\n",
                "\n",
                "# Creamos el vectorizador\n",
                "vectorizer = CountVectorizer()\n",
                "\n",
                "# Ajustamos SOLO con los datos de entrenamiento\n",
                "X_train_vectorized = vectorizer.fit_transform(X_train)\n",
                "\n",
                "# Transformamos los datos de test con el mismo vectorizador\n",
                "X_test_vectorized = vectorizer.transform(X_test)\n",
                "\n",
                "# Ver la forma de la matriz resultante\n",
                "print(X_train_vectorized.shape, X_test_vectorized.shape)  # (n_reviews, n_words)"
            ]
        },
        {
            "cell_type": "markdown",
            "metadata": {},
            "source": [
                "### Implementar el modelo con MultinomialNB"
            ]
        },
        {
            "cell_type": "code",
            "execution_count": 7,
            "metadata": {},
            "outputs": [
                {
                    "name": "stdout",
                    "output_type": "stream",
                    "text": [
                        "Accuracy: 0.84\n",
                        "              precision    recall  f1-score   support\n",
                        "\n",
                        "           0       0.85      0.95      0.90       126\n",
                        "           1       0.84      0.58      0.69        53\n",
                        "\n",
                        "    accuracy                           0.84       179\n",
                        "   macro avg       0.84      0.77      0.79       179\n",
                        "weighted avg       0.84      0.84      0.83       179\n",
                        "\n"
                    ]
                }
            ],
            "source": [
                "from sklearn.naive_bayes import MultinomialNB\n",
                "from sklearn.metrics import accuracy_score, classification_report\n",
                "\n",
                "# Creamos el modelo\n",
                "nb_model = MultinomialNB()\n",
                "\n",
                "# Entrenamos con los datos de entrenamiento\n",
                "nb_model.fit(X_train_vectorized, y_train)\n",
                "\n",
                "# Hacemos predicciones\n",
                "y_pred = nb_model.predict(X_test_vectorized)\n",
                "\n",
                "# Evaluamos el modelo\n",
                "accuracy = accuracy_score(y_test, y_pred)\n",
                "print(f\"Accuracy: {accuracy:.2f}\")\n",
                "\n",
                "# Reporte de clasificación\n",
                "print(classification_report(y_test, y_pred))\n"
            ]
        },
        {
            "cell_type": "markdown",
            "metadata": {},
            "source": [
                "#### Prueba con Bernoulli"
            ]
        },
        {
            "cell_type": "code",
            "execution_count": 8,
            "metadata": {},
            "outputs": [
                {
                    "name": "stdout",
                    "output_type": "stream",
                    "text": [
                        "BernoulliNB Accuracy: 0.8491620111731844\n",
                        "              precision    recall  f1-score   support\n",
                        "\n",
                        "           0       0.86      0.94      0.90       126\n",
                        "           1       0.81      0.64      0.72        53\n",
                        "\n",
                        "    accuracy                           0.85       179\n",
                        "   macro avg       0.84      0.79      0.81       179\n",
                        "weighted avg       0.85      0.85      0.84       179\n",
                        "\n"
                    ]
                }
            ],
            "source": [
                "from sklearn.naive_bayes import BernoulliNB\n",
                "\n",
                "# Creamos el modelo BernoulliNB\n",
                "bernoulli_nb = BernoulliNB()\n",
                "\n",
                "# Entrenamos\n",
                "bernoulli_nb.fit(X_train_vectorized, y_train)\n",
                "\n",
                "# Predicciones\n",
                "y_pred_bernoulli = bernoulli_nb.predict(X_test_vectorized)\n",
                "\n",
                "# Evaluación\n",
                "print(\"BernoulliNB Accuracy:\", accuracy_score(y_test, y_pred_bernoulli))\n",
                "print(classification_report(y_test, y_pred_bernoulli))\n"
            ]
        },
        {
            "cell_type": "markdown",
            "metadata": {},
            "source": [
                "### Prueba con GaussianNB "
            ]
        },
        {
            "cell_type": "code",
            "execution_count": 9,
            "metadata": {},
            "outputs": [
                {
                    "name": "stdout",
                    "output_type": "stream",
                    "text": [
                        "GaussianNB Accuracy: 0.8044692737430168\n",
                        "              precision    recall  f1-score   support\n",
                        "\n",
                        "           0       0.84      0.89      0.86       126\n",
                        "           1       0.70      0.60      0.65        53\n",
                        "\n",
                        "    accuracy                           0.80       179\n",
                        "   macro avg       0.77      0.75      0.76       179\n",
                        "weighted avg       0.80      0.80      0.80       179\n",
                        "\n",
                        "GaussianNB Accuracy: 0.8044692737430168\n",
                        "              precision    recall  f1-score   support\n",
                        "\n",
                        "           0       0.84      0.89      0.86       126\n",
                        "           1       0.70      0.60      0.65        53\n",
                        "\n",
                        "    accuracy                           0.80       179\n",
                        "   macro avg       0.77      0.75      0.76       179\n",
                        "weighted avg       0.80      0.80      0.80       179\n",
                        "\n"
                    ]
                }
            ],
            "source": [
                "from sklearn.naive_bayes import GaussianNB\n",
                "\n",
                "# Convertimos los datos a una matriz densa\n",
                "X_train_dense = X_train_vectorized.toarray()\n",
                "X_test_dense = X_test_vectorized.toarray()\n",
                "\n",
                "# Creamos el modelo GaussianNB\n",
                "gaussian_nb = GaussianNB()\n",
                "\n",
                "# Entrenamos\n",
                "gaussian_nb.fit(X_train_dense, y_train)\n",
                "\n",
                "# Predicciones\n",
                "y_pred_gaussian = gaussian_nb.predict(X_test_dense)\n",
                "\n",
                "# Evaluación\n",
                "print(\"GaussianNB Accuracy:\", accuracy_score(y_test, y_pred_gaussian))\n",
                "print(classification_report(y_test, y_pred_gaussian))\n",
                "from sklearn.naive_bayes import GaussianNB\n",
                "\n",
                "# Convertimos los datos a una matriz densa\n",
                "X_train_dense = X_train_vectorized.toarray()\n",
                "X_test_dense = X_test_vectorized.toarray()\n",
                "\n",
                "# Creamos el modelo GaussianNB\n",
                "gaussian_nb = GaussianNB()\n",
                "\n",
                "# Entrenamos\n",
                "gaussian_nb.fit(X_train_dense, y_train)\n",
                "\n",
                "# Predicciones\n",
                "y_pred_gaussian = gaussian_nb.predict(X_test_dense)\n",
                "\n",
                "# Evaluación\n",
                "print(\"GaussianNB Accuracy:\", accuracy_score(y_test, y_pred_gaussian))\n",
                "print(classification_report(y_test, y_pred_gaussian))\n"
            ]
        },
        {
            "cell_type": "markdown",
            "metadata": {},
            "source": [
                "### Optimizamos con un Random Forest"
            ]
        },
        {
            "cell_type": "code",
            "execution_count": 10,
            "metadata": {},
            "outputs": [
                {
                    "name": "stdout",
                    "output_type": "stream",
                    "text": [
                        "Random Forest Accuracy: 0.8268156424581006\n",
                        "              precision    recall  f1-score   support\n",
                        "\n",
                        "           0       0.84      0.93      0.88       126\n",
                        "           1       0.78      0.58      0.67        53\n",
                        "\n",
                        "    accuracy                           0.83       179\n",
                        "   macro avg       0.81      0.76      0.77       179\n",
                        "weighted avg       0.82      0.83      0.82       179\n",
                        "\n"
                    ]
                }
            ],
            "source": [
                "from sklearn.ensemble import RandomForestClassifier\n",
                "\n",
                "# Creamos el modelo con 100 árboles\n",
                "rf_model = RandomForestClassifier(n_estimators=100, random_state=42)\n",
                "\n",
                "# Entrenamos\n",
                "rf_model.fit(X_train_vectorized, y_train)\n",
                "\n",
                "# Predicciones\n",
                "y_pred_rf = rf_model.predict(X_test_vectorized)\n",
                "\n",
                "# Evaluamos\n",
                "print(\"Random Forest Accuracy:\", accuracy_score(y_test, y_pred_rf))\n",
                "print(classification_report(y_test, y_pred_rf))\n"
            ]
        }
    ],
    "metadata": {
        "kernelspec": {
            "display_name": "Python 3",
            "language": "python",
            "name": "python3"
        },
        "language_info": {
            "codemirror_mode": {
                "name": "ipython",
                "version": 3
            },
            "file_extension": ".py",
            "mimetype": "text/x-python",
            "name": "python",
            "nbconvert_exporter": "python",
            "pygments_lexer": "ipython3",
            "version": "3.11.4"
        },
        "orig_nbformat": 4
    },
    "nbformat": 4,
    "nbformat_minor": 2
}
